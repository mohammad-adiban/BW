{
 "cells": [
  {
   "cell_type": "code",
   "execution_count": 1,
   "id": "efe6a507",
   "metadata": {},
   "outputs": [],
   "source": [
    "import torch\n",
    "import torchvision\n",
    "import torchvision.transforms as transforms\n",
    "import numpy as np\n",
    "import sys\n",
    "import sklearn\n",
    "from sklearn import metrics\n",
    "from sklearn.cluster import MiniBatchKMeans, AgglomerativeClustering, DBSCAN\n",
    "from sklearn.mixture import GaussianMixture\n",
    "import numpy as np\n",
    "import matplotlib\n",
    "import matplotlib.pyplot as plt\n",
    "\n",
    "from sklearn.metrics import adjusted_rand_score"
   ]
  },
  {
   "cell_type": "code",
   "execution_count": 2,
   "id": "b54d4994",
   "metadata": {},
   "outputs": [
    {
     "name": "stdout",
     "output_type": "stream",
     "text": [
      "Training Data: torch.Size([60000, 1, 112, 112])\n",
      "Training Labels: (60000,)\n"
     ]
    }
   ],
   "source": [
    "# Load MNIST dataset\n",
    "train_dataset = torchvision.datasets.MNIST(root='./data', train=True, download=True)\n",
    "test_dataset = torchvision.datasets.MNIST(root='./data', train=False, download=True)\n",
    "\n",
    "# Define the desired dimensions\n",
    "new_width = 28 * 4\n",
    "new_height = 28 * 4\n",
    "\n",
    "# Convert tensors to PIL Images\n",
    "train_images = [transforms.ToPILImage()(img) for img in train_dataset.data]\n",
    "test_images = [transforms.ToPILImage()(img) for img in test_dataset.data]\n",
    "\n",
    "# Define the transformation\n",
    "transform = transforms.Compose([\n",
    "    transforms.Resize((new_height, new_width)),\n",
    "    transforms.ToTensor()\n",
    "])\n",
    "\n",
    "# Apply the transformation to the images\n",
    "x_train = [transform(img) for img in train_images]\n",
    "x_test = [transform(img) for img in test_images]\n",
    "\n",
    "# Convert the transformed images to tensors\n",
    "x_train = torch.stack(x_train)\n",
    "x_test = torch.stack(x_test)\n",
    "\n",
    "y_train = train_dataset.targets.numpy()\n",
    "y_test = test_dataset.targets.numpy()\n",
    "\n",
    "\n",
    "print('Training Data: {}'.format(x_train.shape))\n",
    "print('Training Labels: {}'.format(y_train.shape))"
   ]
  },
  {
   "cell_type": "code",
   "execution_count": 4,
   "id": "968a1352",
   "metadata": {},
   "outputs": [
    {
     "data": {
      "image/png": "[encoded data removed]",
      "text/plain": [
       "<Figure size 288x288 with 9 Axes>"
      ]
     },
     "metadata": {
      "needs_background": "light"
     },
     "output_type": "display_data"
    }
   ],
   "source": [
    "# create figure with 3x3 subplots using matplotlib.pyplot\n",
    "fig, axs = plt.subplots(3, 3, figsize=(4, 4))\n",
    "plt.gray()\n",
    "\n",
    "# loop through subplots and add mnist images\n",
    "for i, ax in enumerate(axs.flat):\n",
    "    img = x_train[i]  # Access the transformed image directly from the data tensor\n",
    "    ax.matshow(img.squeeze(), cmap='gray')  # Show the transformed image\n",
    "    ax.axis('off')\n",
    "    #ax.set_title('Number {}'.format(y_train[i]))\n",
    "\n",
    "# display the figure\n",
    "plt.show()\n",
    "\n",
    "# preprocessing the images\n",
    "# convert each image to 1-dimensional array\n",
    "x_train = x_train.numpy()\n",
    "x_test = x_test.numpy()\n",
    "\n",
    "X_train = x_train.reshape(len(x_train), -1)\n",
    "X_test = x_test.reshape(len(x_test), -1)\n",
    "\n",
    "# normalize the data to the range 0 - 1\n",
    "X_train = X_train.astype(float) / 255.0\n",
    "X_test = X_test.astype(float) / 255.0"
   ]
  },
  {
   "cell_type": "code",
   "execution_count": null,
   "id": "7694aa63",
   "metadata": {},
   "outputs": [
    {
     "name": "stdout",
     "output_type": "stream",
     "text": [
      "Clustering Algorithm: KMeans\n"
     ]
    },
    {
     "name": "stderr",
     "output_type": "stream",
     "text": [
      "/home/stipendiater/mohamadi/.local/lib/python3.8/site-packages/sklearn/cluster/_kmeans.py:870: FutureWarning: The default value of `n_init` will change from 3 to 'auto' in 1.4. Set the value of `n_init` explicitly to suppress the warning\n",
      "  warnings.warn(\n"
     ]
    },
    {
     "name": "stdout",
     "output_type": "stream",
     "text": [
      "Adjusted Rand Index (ARI) - Training Set: 0.3751998217518858\n",
      "Adjusted Rand Index (ARI) - Test Set: 0.39370984045179547\n",
      "----------------------------------------\n",
      "Clustering Algorithm: GMM\n"
     ]
    }
   ],
   "source": [
    "# List of clustering algorithms\n",
    "clustering_algorithms = [\n",
    "    ('KMeans', MiniBatchKMeans(n_clusters=10)),\n",
    "    #('Agglomerative', AgglomerativeClustering(n_clusters=10)),\n",
    "    #('DBSCAN', DBSCAN(eps=0.5, min_samples=5)),\n",
    "    ('GMM', GaussianMixture(n_components=10))\n",
    "]\n",
    "\n",
    "# Iterate over each clustering algorithm\n",
    "for name, algorithm in clustering_algorithms:\n",
    "    print('Clustering Algorithm:', name)\n",
    "    \n",
    "    # Fit the model to the training data\n",
    "    algorithm.fit(X_train)\n",
    "    \n",
    "    # Predict cluster labels for training and testing data\n",
    "    train_clusters = algorithm.labels_\n",
    "    test_clusters = algorithm.predict(X_test)\n",
    "    \n",
    "    # Evaluate clustering performance using Adjusted Rand Index (ARI)\n",
    "    ari_train = adjusted_rand_score(y_train, train_clusters)\n",
    "    ari_test = adjusted_rand_score(y_test, test_clusters)\n",
    "    print(f\"Adjusted Rand Index (ARI) - Training Set: {ari_train}\")\n",
    "    print(f\"Adjusted Rand Index (ARI) - Test Set: {ari_test}\")\n",
    "    print('-' * 40)"
   ]
  },
  {
   "cell_type": "code",
   "execution_count": null,
   "id": "3ebba12f",
   "metadata": {},
   "outputs": [],
   "source": []
  }
 ],
 "metadata": {
  "kernelspec": {
   "display_name": "Python 3 (ipykernel)",
   "language": "python",
   "name": "python3"
  },
  "language_info": {
   "codemirror_mode": {
    "name": "ipython",
    "version": 3
   },
   "file_extension": ".py",
   "mimetype": "text/x-python",
   "name": "python",
   "nbconvert_exporter": "python",
   "pygments_lexer": "ipython3",
   "version": "3.8.10"
  }
 },
 "nbformat": 4,
 "nbformat_minor": 5
}
