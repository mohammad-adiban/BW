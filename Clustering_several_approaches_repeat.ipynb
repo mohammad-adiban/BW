{
 "cells": [
  {
   "cell_type": "code",
   "execution_count": 1,
   "id": "3d5c8a7b",
   "metadata": {},
   "outputs": [],
   "source": [
    "import sys\n",
    "import sklearn\n",
    "from sklearn import metrics\n",
    "import torchvision\n",
    "import torchvision.transforms as transforms\n",
    "from sklearn.cluster import MiniBatchKMeans, AgglomerativeClustering, DBSCAN\n",
    "from sklearn.mixture import GaussianMixture\n",
    "import numpy as np\n",
    "import torch\n",
    "import torchvision\n",
    "import matplotlib\n",
    "import matplotlib.pyplot as plt\n",
    "\n",
    "from sklearn.metrics import adjusted_rand_score"
   ]
  },
  {
   "cell_type": "code",
   "execution_count": 2,
   "id": "8353894f",
   "metadata": {},
   "outputs": [],
   "source": [
    "# Load MNIST dataset\n",
    "train_dataset = torchvision.datasets.MNIST(root='./data', train=True, download=True)\n",
    "test_dataset = torchvision.datasets.MNIST(root='./data', train=False, download=True)"
   ]
  },
  {
   "cell_type": "code",
   "execution_count": 3,
   "id": "7a7be558",
   "metadata": {},
   "outputs": [
    {
     "name": "stdout",
     "output_type": "stream",
     "text": [
      "Training Data: (60000, 28, 28)\n",
      "Training Labels: (60000,)\n"
     ]
    }
   ],
   "source": [
    "# Reading labels\n",
    "y_train = train_dataset.targets.numpy()\n",
    "y_test = test_dataset.targets.numpy()\n",
    "\n",
    "# Reading features\n",
    "x_train = train_dataset.data.numpy()\n",
    "x_test = test_dataset.data.numpy()\n",
    "\n",
    "print('Training Data: {}'.format(x_train.shape))\n",
    "print('Training Labels: {}'.format(y_train.shape))"
   ]
  },
  {
   "cell_type": "code",
   "execution_count": 14,
   "id": "83de5473",
   "metadata": {},
   "outputs": [
    {
     "data": {
      "text/plain": [
       "255"
      ]
     },
     "execution_count": 14,
     "metadata": {},
     "output_type": "execute_result"
    }
   ],
   "source": [
    "np.max(x_train)"
   ]
  },
  {
   "cell_type": "code",
   "execution_count": 4,
   "id": "4e7110d7",
   "metadata": {},
   "outputs": [
    {
     "name": "stdout",
     "output_type": "stream",
     "text": [
      "Training Data: (60000, 112, 112)\n",
      "Training Labels: (60000,)\n"
     ]
    }
   ],
   "source": [
    "# Increase dimensions by 4 times in x and y directions\n",
    "x_train = np.repeat(np.repeat(x_train, 4, axis=1), 4, axis=2)\n",
    "x_test = np.repeat(np.repeat(x_test, 4, axis=1), 4, axis=2)\n",
    "\n",
    "print('Training Data: {}'.format(x_train.shape))\n",
    "print('Training Labels: {}'.format(y_train.shape))"
   ]
  },
  {
   "cell_type": "code",
   "execution_count": 5,
   "id": "a7484ef4",
   "metadata": {},
   "outputs": [
    {
     "data": {
      "image/png": "[encoded data removed]",
      "text/plain": [
       "<Figure size 288x288 with 9 Axes>"
      ]
     },
     "metadata": {
      "needs_background": "light"
     },
     "output_type": "display_data"
    }
   ],
   "source": [
    "# python magic function\n",
    "get_ipython().run_line_magic('matplotlib', 'inline')\n",
    "\n",
    "\n",
    "# create figure with 3x3 subplots using matplotlib.pyplot\n",
    "fig, axs = plt.subplots(3, 3, figsize=(4,4))\n",
    "plt.gray()\n",
    "\n",
    "# loop through subplots and add mnist images\n",
    "for i, ax in enumerate(axs.flat):\n",
    "    ax.matshow(x_train[i])\n",
    "    ax.axis('off')\n",
    "    #ax.set_title('Number {}'.format(y_train[i]))\n",
    "\n",
    "# display the figure\n",
    "fig.show()\n",
    "\n",
    "# preprocessing the images\n",
    "# convert each image to 1 dimensional array\n",
    "X_train = x_train.reshape(len(x_train), -1)\n",
    "X_test = x_test.reshape(len(x_test), -1)\n",
    "\n",
    "# normalize the data to 0 - 1\n",
    "X_train = X_train.astype(float) / 255.\n",
    "X_test = X_test.astype(float) / 255."
   ]
  },
  {
   "cell_type": "code",
   "execution_count": 12,
   "id": "976dd4ac",
   "metadata": {},
   "outputs": [
    {
     "name": "stdout",
     "output_type": "stream",
     "text": [
      "Clustering Algorithm: KMeans\n"
     ]
    },
    {
     "name": "stderr",
     "output_type": "stream",
     "text": [
      "/home/stipendiater/mohamadi/.local/lib/python3.8/site-packages/sklearn/cluster/_kmeans.py:870: FutureWarning: The default value of `n_init` will change from 3 to 'auto' in 1.4. Set the value of `n_init` explicitly to suppress the warning\n",
      "  warnings.warn(\n"
     ]
    },
    {
     "name": "stdout",
     "output_type": "stream",
     "text": [
      "Adjusted Rand Index (ARI) - Training Set: 0.06382090916709443\n",
      "Adjusted Rand Index (ARI) - Test Set: 0.0673256741416886\n",
      "----------------------------------------\n"
     ]
    }
   ],
   "source": [
    "# List of clustering algorithms\n",
    "clustering_algorithms = [\n",
    "    ('KMeans', MiniBatchKMeans(n_clusters=256)),\n",
    "    #('Agglomerative', AgglomerativeClustering(n_clusters=10)),\n",
    "    #('DBSCAN', DBSCAN(eps=0.5, min_samples=5)),\n",
    "    #('GMM', GaussianMixture(n_components=10))\n",
    "]\n",
    "\n",
    "# Iterate over each clustering algorithm\n",
    "for name, algorithm in clustering_algorithms:\n",
    "    print('Clustering Algorithm:', name)\n",
    "    \n",
    "    # Fit the model to the training data\n",
    "    algorithm.fit(X_train)\n",
    "    \n",
    "    # Predict cluster labels for training and testing data\n",
    "    train_clusters = algorithm.labels_\n",
    "    test_clusters = algorithm.predict(X_test)\n",
    "    \n",
    "    # Evaluate clustering performance using Adjusted Rand Index (ARI)\n",
    "    ari_train = adjusted_rand_score(y_train, train_clusters)\n",
    "    ari_test = adjusted_rand_score(y_test, test_clusters)\n",
    "    print(f\"Adjusted Rand Index (ARI) - Training Set: {ari_train}\")\n",
    "    print(f\"Adjusted Rand Index (ARI) - Test Set: {ari_test}\")\n",
    "    print('-' * 40)"
   ]
  },
  {
   "cell_type": "code",
   "execution_count": null,
   "id": "5ab0a263",
   "metadata": {},
   "outputs": [],
   "source": []
  }
 ],
 "metadata": {
  "kernelspec": {
   "display_name": "Python 3 (ipykernel)",
   "language": "python",
   "name": "python3"
  },
  "language_info": {
   "codemirror_mode": {
    "name": "ipython",
    "version": 3
   },
   "file_extension": ".py",
   "mimetype": "text/x-python",
   "name": "python",
   "nbconvert_exporter": "python",
   "pygments_lexer": "ipython3",
   "version": "3.8.10"
  }
 },
 "nbformat": 4,
 "nbformat_minor": 5
}
